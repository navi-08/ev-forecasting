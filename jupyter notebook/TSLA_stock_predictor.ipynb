{
 "cells": [
  {
   "cell_type": "code",
   "execution_count": 27,
   "id": "c9f061ff-d44c-4fe2-98aa-252b470525f3",
   "metadata": {},
   "outputs": [],
   "source": [
    "import pandas as pd\n",
    "import numpy as np\n",
    "import matplotlib.pyplot as plt\n",
    "import math\n",
    "import seaborn as sns\n",
    "%matplotlib inline\n",
    "\n",
    "import warnings\n",
    "warnings.filterwarnings(\"ignore\")\n",
    "\n",
    "import yfinance as yf\n",
    "yf.pdr_override()"
   ]
  },
  {
   "cell_type": "code",
   "execution_count": 28,
   "id": "9f6747c7-8f48-453f-b87a-888725d023d0",
   "metadata": {},
   "outputs": [
    {
     "name": "stderr",
     "output_type": "stream",
     "text": [
      "[*********************100%%**********************]  1 of 1 completed\n"
     ]
    },
    {
     "data": {
      "text/html": [
       "<div>\n",
       "<style scoped>\n",
       "    .dataframe tbody tr th:only-of-type {\n",
       "        vertical-align: middle;\n",
       "    }\n",
       "\n",
       "    .dataframe tbody tr th {\n",
       "        vertical-align: top;\n",
       "    }\n",
       "\n",
       "    .dataframe thead th {\n",
       "        text-align: right;\n",
       "    }\n",
       "</style>\n",
       "<table border=\"1\" class=\"dataframe\">\n",
       "  <thead>\n",
       "    <tr style=\"text-align: right;\">\n",
       "      <th></th>\n",
       "      <th>Open</th>\n",
       "      <th>High</th>\n",
       "      <th>Low</th>\n",
       "      <th>Close</th>\n",
       "      <th>Adj Close</th>\n",
       "      <th>Volume</th>\n",
       "    </tr>\n",
       "    <tr>\n",
       "      <th>Date</th>\n",
       "      <th></th>\n",
       "      <th></th>\n",
       "      <th></th>\n",
       "      <th></th>\n",
       "      <th></th>\n",
       "      <th></th>\n",
       "    </tr>\n",
       "  </thead>\n",
       "  <tbody>\n",
       "    <tr>\n",
       "      <th>2016-01-04</th>\n",
       "      <td>15.381333</td>\n",
       "      <td>15.425333</td>\n",
       "      <td>14.600000</td>\n",
       "      <td>14.894000</td>\n",
       "      <td>14.894000</td>\n",
       "      <td>102406500</td>\n",
       "    </tr>\n",
       "    <tr>\n",
       "      <th>2016-01-05</th>\n",
       "      <td>15.090667</td>\n",
       "      <td>15.126000</td>\n",
       "      <td>14.666667</td>\n",
       "      <td>14.895333</td>\n",
       "      <td>14.895333</td>\n",
       "      <td>47802000</td>\n",
       "    </tr>\n",
       "    <tr>\n",
       "      <th>2016-01-06</th>\n",
       "      <td>14.666667</td>\n",
       "      <td>14.670000</td>\n",
       "      <td>14.398667</td>\n",
       "      <td>14.602667</td>\n",
       "      <td>14.602667</td>\n",
       "      <td>56686500</td>\n",
       "    </tr>\n",
       "    <tr>\n",
       "      <th>2016-01-07</th>\n",
       "      <td>14.279333</td>\n",
       "      <td>14.562667</td>\n",
       "      <td>14.244667</td>\n",
       "      <td>14.376667</td>\n",
       "      <td>14.376667</td>\n",
       "      <td>53314500</td>\n",
       "    </tr>\n",
       "    <tr>\n",
       "      <th>2016-01-08</th>\n",
       "      <td>14.524000</td>\n",
       "      <td>14.696000</td>\n",
       "      <td>14.051333</td>\n",
       "      <td>14.066667</td>\n",
       "      <td>14.066667</td>\n",
       "      <td>54421500</td>\n",
       "    </tr>\n",
       "    <tr>\n",
       "      <th>...</th>\n",
       "      <td>...</td>\n",
       "      <td>...</td>\n",
       "      <td>...</td>\n",
       "      <td>...</td>\n",
       "      <td>...</td>\n",
       "      <td>...</td>\n",
       "    </tr>\n",
       "    <tr>\n",
       "      <th>2023-12-22</th>\n",
       "      <td>256.760010</td>\n",
       "      <td>258.220001</td>\n",
       "      <td>251.369995</td>\n",
       "      <td>252.539993</td>\n",
       "      <td>252.539993</td>\n",
       "      <td>93249800</td>\n",
       "    </tr>\n",
       "    <tr>\n",
       "      <th>2023-12-26</th>\n",
       "      <td>254.490005</td>\n",
       "      <td>257.970001</td>\n",
       "      <td>252.910004</td>\n",
       "      <td>256.609985</td>\n",
       "      <td>256.609985</td>\n",
       "      <td>86892400</td>\n",
       "    </tr>\n",
       "    <tr>\n",
       "      <th>2023-12-27</th>\n",
       "      <td>258.350006</td>\n",
       "      <td>263.339996</td>\n",
       "      <td>257.519989</td>\n",
       "      <td>261.440002</td>\n",
       "      <td>261.440002</td>\n",
       "      <td>106494400</td>\n",
       "    </tr>\n",
       "    <tr>\n",
       "      <th>2023-12-28</th>\n",
       "      <td>263.660004</td>\n",
       "      <td>265.130005</td>\n",
       "      <td>252.710007</td>\n",
       "      <td>253.179993</td>\n",
       "      <td>253.179993</td>\n",
       "      <td>113619900</td>\n",
       "    </tr>\n",
       "    <tr>\n",
       "      <th>2023-12-29</th>\n",
       "      <td>255.100006</td>\n",
       "      <td>255.190002</td>\n",
       "      <td>247.429993</td>\n",
       "      <td>248.479996</td>\n",
       "      <td>248.479996</td>\n",
       "      <td>100615300</td>\n",
       "    </tr>\n",
       "  </tbody>\n",
       "</table>\n",
       "<p>2012 rows × 6 columns</p>\n",
       "</div>"
      ],
      "text/plain": [
       "                  Open        High         Low       Close   Adj Close  \\\n",
       "Date                                                                     \n",
       "2016-01-04   15.381333   15.425333   14.600000   14.894000   14.894000   \n",
       "2016-01-05   15.090667   15.126000   14.666667   14.895333   14.895333   \n",
       "2016-01-06   14.666667   14.670000   14.398667   14.602667   14.602667   \n",
       "2016-01-07   14.279333   14.562667   14.244667   14.376667   14.376667   \n",
       "2016-01-08   14.524000   14.696000   14.051333   14.066667   14.066667   \n",
       "...                ...         ...         ...         ...         ...   \n",
       "2023-12-22  256.760010  258.220001  251.369995  252.539993  252.539993   \n",
       "2023-12-26  254.490005  257.970001  252.910004  256.609985  256.609985   \n",
       "2023-12-27  258.350006  263.339996  257.519989  261.440002  261.440002   \n",
       "2023-12-28  263.660004  265.130005  252.710007  253.179993  253.179993   \n",
       "2023-12-29  255.100006  255.190002  247.429993  248.479996  248.479996   \n",
       "\n",
       "               Volume  \n",
       "Date                   \n",
       "2016-01-04  102406500  \n",
       "2016-01-05   47802000  \n",
       "2016-01-06   56686500  \n",
       "2016-01-07   53314500  \n",
       "2016-01-08   54421500  \n",
       "...               ...  \n",
       "2023-12-22   93249800  \n",
       "2023-12-26   86892400  \n",
       "2023-12-27  106494400  \n",
       "2023-12-28  113619900  \n",
       "2023-12-29  100615300  \n",
       "\n",
       "[2012 rows x 6 columns]"
      ]
     },
     "execution_count": 28,
     "metadata": {},
     "output_type": "execute_result"
    }
   ],
   "source": [
    "stock = 'TSLA'\n",
    "start = '2016-01-01' \n",
    "end = '2024-01-01'\n",
    "data = yf.download(stock, start, end)\n",
    "data"
   ]
  },
  {
   "cell_type": "code",
   "execution_count": 37,
   "id": "33064cb4-d9ef-4f97-85eb-c2218867a125",
   "metadata": {},
   "outputs": [
    {
     "data": {
      "text/html": [
       "<div>\n",
       "<style scoped>\n",
       "    .dataframe tbody tr th:only-of-type {\n",
       "        vertical-align: middle;\n",
       "    }\n",
       "\n",
       "    .dataframe tbody tr th {\n",
       "        vertical-align: top;\n",
       "    }\n",
       "\n",
       "    .dataframe thead th {\n",
       "        text-align: right;\n",
       "    }\n",
       "</style>\n",
       "<table border=\"1\" class=\"dataframe\">\n",
       "  <thead>\n",
       "    <tr style=\"text-align: right;\">\n",
       "      <th></th>\n",
       "      <th>Date</th>\n",
       "      <th>Open</th>\n",
       "      <th>High</th>\n",
       "      <th>Low</th>\n",
       "      <th>Close</th>\n",
       "      <th>Adj Close</th>\n",
       "      <th>Volume</th>\n",
       "    </tr>\n",
       "  </thead>\n",
       "  <tbody>\n",
       "    <tr>\n",
       "      <th>0</th>\n",
       "      <td>2016-01-04</td>\n",
       "      <td>15.381333</td>\n",
       "      <td>15.425333</td>\n",
       "      <td>14.600000</td>\n",
       "      <td>14.894000</td>\n",
       "      <td>14.894000</td>\n",
       "      <td>102406500</td>\n",
       "    </tr>\n",
       "    <tr>\n",
       "      <th>1</th>\n",
       "      <td>2016-01-05</td>\n",
       "      <td>15.090667</td>\n",
       "      <td>15.126000</td>\n",
       "      <td>14.666667</td>\n",
       "      <td>14.895333</td>\n",
       "      <td>14.895333</td>\n",
       "      <td>47802000</td>\n",
       "    </tr>\n",
       "    <tr>\n",
       "      <th>2</th>\n",
       "      <td>2016-01-06</td>\n",
       "      <td>14.666667</td>\n",
       "      <td>14.670000</td>\n",
       "      <td>14.398667</td>\n",
       "      <td>14.602667</td>\n",
       "      <td>14.602667</td>\n",
       "      <td>56686500</td>\n",
       "    </tr>\n",
       "    <tr>\n",
       "      <th>3</th>\n",
       "      <td>2016-01-07</td>\n",
       "      <td>14.279333</td>\n",
       "      <td>14.562667</td>\n",
       "      <td>14.244667</td>\n",
       "      <td>14.376667</td>\n",
       "      <td>14.376667</td>\n",
       "      <td>53314500</td>\n",
       "    </tr>\n",
       "    <tr>\n",
       "      <th>4</th>\n",
       "      <td>2016-01-08</td>\n",
       "      <td>14.524000</td>\n",
       "      <td>14.696000</td>\n",
       "      <td>14.051333</td>\n",
       "      <td>14.066667</td>\n",
       "      <td>14.066667</td>\n",
       "      <td>54421500</td>\n",
       "    </tr>\n",
       "    <tr>\n",
       "      <th>...</th>\n",
       "      <td>...</td>\n",
       "      <td>...</td>\n",
       "      <td>...</td>\n",
       "      <td>...</td>\n",
       "      <td>...</td>\n",
       "      <td>...</td>\n",
       "      <td>...</td>\n",
       "    </tr>\n",
       "    <tr>\n",
       "      <th>2007</th>\n",
       "      <td>2023-12-22</td>\n",
       "      <td>256.760010</td>\n",
       "      <td>258.220001</td>\n",
       "      <td>251.369995</td>\n",
       "      <td>252.539993</td>\n",
       "      <td>252.539993</td>\n",
       "      <td>93249800</td>\n",
       "    </tr>\n",
       "    <tr>\n",
       "      <th>2008</th>\n",
       "      <td>2023-12-26</td>\n",
       "      <td>254.490005</td>\n",
       "      <td>257.970001</td>\n",
       "      <td>252.910004</td>\n",
       "      <td>256.609985</td>\n",
       "      <td>256.609985</td>\n",
       "      <td>86892400</td>\n",
       "    </tr>\n",
       "    <tr>\n",
       "      <th>2009</th>\n",
       "      <td>2023-12-27</td>\n",
       "      <td>258.350006</td>\n",
       "      <td>263.339996</td>\n",
       "      <td>257.519989</td>\n",
       "      <td>261.440002</td>\n",
       "      <td>261.440002</td>\n",
       "      <td>106494400</td>\n",
       "    </tr>\n",
       "    <tr>\n",
       "      <th>2010</th>\n",
       "      <td>2023-12-28</td>\n",
       "      <td>263.660004</td>\n",
       "      <td>265.130005</td>\n",
       "      <td>252.710007</td>\n",
       "      <td>253.179993</td>\n",
       "      <td>253.179993</td>\n",
       "      <td>113619900</td>\n",
       "    </tr>\n",
       "    <tr>\n",
       "      <th>2011</th>\n",
       "      <td>2023-12-29</td>\n",
       "      <td>255.100006</td>\n",
       "      <td>255.190002</td>\n",
       "      <td>247.429993</td>\n",
       "      <td>248.479996</td>\n",
       "      <td>248.479996</td>\n",
       "      <td>100615300</td>\n",
       "    </tr>\n",
       "  </tbody>\n",
       "</table>\n",
       "<p>2012 rows × 7 columns</p>\n",
       "</div>"
      ],
      "text/plain": [
       "           Date        Open        High         Low       Close   Adj Close  \\\n",
       "0    2016-01-04   15.381333   15.425333   14.600000   14.894000   14.894000   \n",
       "1    2016-01-05   15.090667   15.126000   14.666667   14.895333   14.895333   \n",
       "2    2016-01-06   14.666667   14.670000   14.398667   14.602667   14.602667   \n",
       "3    2016-01-07   14.279333   14.562667   14.244667   14.376667   14.376667   \n",
       "4    2016-01-08   14.524000   14.696000   14.051333   14.066667   14.066667   \n",
       "...         ...         ...         ...         ...         ...         ...   \n",
       "2007 2023-12-22  256.760010  258.220001  251.369995  252.539993  252.539993   \n",
       "2008 2023-12-26  254.490005  257.970001  252.910004  256.609985  256.609985   \n",
       "2009 2023-12-27  258.350006  263.339996  257.519989  261.440002  261.440002   \n",
       "2010 2023-12-28  263.660004  265.130005  252.710007  253.179993  253.179993   \n",
       "2011 2023-12-29  255.100006  255.190002  247.429993  248.479996  248.479996   \n",
       "\n",
       "         Volume  \n",
       "0     102406500  \n",
       "1      47802000  \n",
       "2      56686500  \n",
       "3      53314500  \n",
       "4      54421500  \n",
       "...         ...  \n",
       "2007   93249800  \n",
       "2008   86892400  \n",
       "2009  106494400  \n",
       "2010  113619900  \n",
       "2011  100615300  \n",
       "\n",
       "[2012 rows x 7 columns]"
      ]
     },
     "execution_count": 37,
     "metadata": {},
     "output_type": "execute_result"
    }
   ],
   "source": [
    "df = data.reset_index()\n",
    "df"
   ]
  },
  {
   "cell_type": "code",
   "execution_count": 38,
   "id": "c85ec0d9-6065-40eb-b046-66250f68d86b",
   "metadata": {},
   "outputs": [],
   "source": [
    "X = df.drop(['Date','Close'], axis=1)\n",
    "y = df[['Close']]"
   ]
  },
  {
   "cell_type": "code",
   "execution_count": 39,
   "id": "91a4cc78-4c8a-47b6-8a73-a71f72d5db92",
   "metadata": {
    "scrolled": true
   },
   "outputs": [],
   "source": [
    "df = df.to_numpy()\n"
   ]
  },
  {
   "cell_type": "code",
   "execution_count": 40,
   "id": "9b446589-fba6-496a-a794-c44dce108814",
   "metadata": {},
   "outputs": [],
   "source": [
    "from sklearn.model_selection import train_test_split\n",
    "\n",
    "# Split X and y into X_\n",
    "X_train, X_test, y_train, y_test = train_test_split(X, y, test_size=0.25,  random_state=10)\n",
    "\n",
    "#X_train, X_test, y_train, y_test = train_test_split(X, y, none, none, random_state=78)\n"
   ]
  },
  {
   "cell_type": "code",
   "execution_count": 41,
   "id": "52c05946-06ca-4945-acf7-0977c3e585c5",
   "metadata": {},
   "outputs": [
    {
     "data": {
      "text/html": [
       "<style>#sk-container-id-1 {color: black;background-color: white;}#sk-container-id-1 pre{padding: 0;}#sk-container-id-1 div.sk-toggleable {background-color: white;}#sk-container-id-1 label.sk-toggleable__label {cursor: pointer;display: block;width: 100%;margin-bottom: 0;padding: 0.3em;box-sizing: border-box;text-align: center;}#sk-container-id-1 label.sk-toggleable__label-arrow:before {content: \"▸\";float: left;margin-right: 0.25em;color: #696969;}#sk-container-id-1 label.sk-toggleable__label-arrow:hover:before {color: black;}#sk-container-id-1 div.sk-estimator:hover label.sk-toggleable__label-arrow:before {color: black;}#sk-container-id-1 div.sk-toggleable__content {max-height: 0;max-width: 0;overflow: hidden;text-align: left;background-color: #f0f8ff;}#sk-container-id-1 div.sk-toggleable__content pre {margin: 0.2em;color: black;border-radius: 0.25em;background-color: #f0f8ff;}#sk-container-id-1 input.sk-toggleable__control:checked~div.sk-toggleable__content {max-height: 200px;max-width: 100%;overflow: auto;}#sk-container-id-1 input.sk-toggleable__control:checked~label.sk-toggleable__label-arrow:before {content: \"▾\";}#sk-container-id-1 div.sk-estimator input.sk-toggleable__control:checked~label.sk-toggleable__label {background-color: #d4ebff;}#sk-container-id-1 div.sk-label input.sk-toggleable__control:checked~label.sk-toggleable__label {background-color: #d4ebff;}#sk-container-id-1 input.sk-hidden--visually {border: 0;clip: rect(1px 1px 1px 1px);clip: rect(1px, 1px, 1px, 1px);height: 1px;margin: -1px;overflow: hidden;padding: 0;position: absolute;width: 1px;}#sk-container-id-1 div.sk-estimator {font-family: monospace;background-color: #f0f8ff;border: 1px dotted black;border-radius: 0.25em;box-sizing: border-box;margin-bottom: 0.5em;}#sk-container-id-1 div.sk-estimator:hover {background-color: #d4ebff;}#sk-container-id-1 div.sk-parallel-item::after {content: \"\";width: 100%;border-bottom: 1px solid gray;flex-grow: 1;}#sk-container-id-1 div.sk-label:hover label.sk-toggleable__label {background-color: #d4ebff;}#sk-container-id-1 div.sk-serial::before {content: \"\";position: absolute;border-left: 1px solid gray;box-sizing: border-box;top: 0;bottom: 0;left: 50%;z-index: 0;}#sk-container-id-1 div.sk-serial {display: flex;flex-direction: column;align-items: center;background-color: white;padding-right: 0.2em;padding-left: 0.2em;position: relative;}#sk-container-id-1 div.sk-item {position: relative;z-index: 1;}#sk-container-id-1 div.sk-parallel {display: flex;align-items: stretch;justify-content: center;background-color: white;position: relative;}#sk-container-id-1 div.sk-item::before, #sk-container-id-1 div.sk-parallel-item::before {content: \"\";position: absolute;border-left: 1px solid gray;box-sizing: border-box;top: 0;bottom: 0;left: 50%;z-index: -1;}#sk-container-id-1 div.sk-parallel-item {display: flex;flex-direction: column;z-index: 1;position: relative;background-color: white;}#sk-container-id-1 div.sk-parallel-item:first-child::after {align-self: flex-end;width: 50%;}#sk-container-id-1 div.sk-parallel-item:last-child::after {align-self: flex-start;width: 50%;}#sk-container-id-1 div.sk-parallel-item:only-child::after {width: 0;}#sk-container-id-1 div.sk-dashed-wrapped {border: 1px dashed gray;margin: 0 0.4em 0.5em 0.4em;box-sizing: border-box;padding-bottom: 0.4em;background-color: white;}#sk-container-id-1 div.sk-label label {font-family: monospace;font-weight: bold;display: inline-block;line-height: 1.2em;}#sk-container-id-1 div.sk-label-container {text-align: center;}#sk-container-id-1 div.sk-container {/* jupyter's `normalize.less` sets `[hidden] { display: none; }` but bootstrap.min.css set `[hidden] { display: none !important; }` so we also need the `!important` here to be able to override the default hidden behavior on the sphinx rendered scikit-learn.org. See: https://github.com/scikit-learn/scikit-learn/issues/21755 */display: inline-block !important;position: relative;}#sk-container-id-1 div.sk-text-repr-fallback {display: none;}</style><div id=\"sk-container-id-1\" class=\"sk-top-container\"><div class=\"sk-text-repr-fallback\"><pre>LinearRegression()</pre><b>In a Jupyter environment, please rerun this cell to show the HTML representation or trust the notebook. <br />On GitHub, the HTML representation is unable to render, please try loading this page with nbviewer.org.</b></div><div class=\"sk-container\" hidden><div class=\"sk-item\"><div class=\"sk-estimator sk-toggleable\"><input class=\"sk-toggleable__control sk-hidden--visually\" id=\"sk-estimator-id-1\" type=\"checkbox\" checked><label for=\"sk-estimator-id-1\" class=\"sk-toggleable__label sk-toggleable__label-arrow\">LinearRegression</label><div class=\"sk-toggleable__content\"><pre>LinearRegression()</pre></div></div></div></div></div>"
      ],
      "text/plain": [
       "LinearRegression()"
      ]
     },
     "execution_count": 41,
     "metadata": {},
     "output_type": "execute_result"
    }
   ],
   "source": [
    "from sklearn.linear_model import LinearRegression\n",
    "\n",
    "regression_model = LinearRegression()\n",
    "regression_model.fit(X_train, y_train)"
   ]
  },
  {
   "cell_type": "code",
   "execution_count": 42,
   "id": "6b20ef8a-6085-463a-a688-3098428d8ca7",
   "metadata": {},
   "outputs": [
    {
     "name": "stdout",
     "output_type": "stream",
     "text": [
      "The intercept for our model is -1.0145555506824167e-08\n"
     ]
    }
   ],
   "source": [
    "intercept = regression_model.intercept_[0]\n",
    "\n",
    "print(\"The intercept for our model is {}\".format(intercept))"
   ]
  },
  {
   "cell_type": "code",
   "execution_count": 43,
   "id": "800ebbc9-0d1c-46e2-8d34-f263040e25d4",
   "metadata": {},
   "outputs": [
    {
     "data": {
      "text/plain": [
       "1.0"
      ]
     },
     "execution_count": 43,
     "metadata": {},
     "output_type": "execute_result"
    }
   ],
   "source": [
    "regression_model.score(X_test, y_test)\n"
   ]
  },
  {
   "cell_type": "code",
   "execution_count": 44,
   "id": "50ab020c-6801-4042-be2f-ad0181afb5ff",
   "metadata": {},
   "outputs": [
    {
     "data": {
      "text/plain": [
       "4.034660185571048e-17"
      ]
     },
     "execution_count": 44,
     "metadata": {},
     "output_type": "execute_result"
    }
   ],
   "source": [
    "from sklearn.metrics import mean_squared_error\n",
    "\n",
    "y_predict = regression_model.predict(X_test)\n",
    "\n",
    "regression_model_mse = mean_squared_error(y_predict, y_test)\n",
    "\n",
    "regression_model_mse"
   ]
  },
  {
   "cell_type": "code",
   "execution_count": 45,
   "id": "1f3a3b77-768d-45b9-86db-e76dab37c3cd",
   "metadata": {},
   "outputs": [
    {
     "data": {
      "text/plain": [
       "6.3518975004096595e-09"
      ]
     },
     "execution_count": 45,
     "metadata": {},
     "output_type": "execute_result"
    }
   ],
   "source": [
    "math.sqrt(regression_model_mse)\n"
   ]
  },
  {
   "cell_type": "code",
   "execution_count": 48,
   "id": "16f33980-3823-42a1-a42b-2446f3dd09e9",
   "metadata": {},
   "outputs": [
    {
     "data": {
      "text/plain": [
       "array([[248.479996]])"
      ]
     },
     "execution_count": 48,
     "metadata": {},
     "output_type": "execute_result"
    }
   ],
   "source": [
    "# input the latest Open, High, Low, Close, Volume\n",
    "# predicts the next day price\n",
    "regression_model.predict([[255.100006, 255.190002, 247.429993, 248.479996, 100615300]])"
   ]
  },
  {
   "cell_type": "code",
   "execution_count": null,
   "id": "4262f4c5-a10c-4c89-b70b-47e792b88bb7",
   "metadata": {},
   "outputs": [],
   "source": []
  }
 ],
 "metadata": {
  "kernelspec": {
   "display_name": "Python 3 (ipykernel)",
   "language": "python",
   "name": "python3"
  },
  "language_info": {
   "codemirror_mode": {
    "name": "ipython",
    "version": 3
   },
   "file_extension": ".py",
   "mimetype": "text/x-python",
   "name": "python",
   "nbconvert_exporter": "python",
   "pygments_lexer": "ipython3",
   "version": "3.11.4"
  }
 },
 "nbformat": 4,
 "nbformat_minor": 5
}
